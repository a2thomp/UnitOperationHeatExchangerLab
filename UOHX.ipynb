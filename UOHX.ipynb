{
 "cells": [
  {
   "cell_type": "code",
   "execution_count": 1,
   "metadata": {},
   "outputs": [],
   "source": [
    "from ChEEssentials import *\n",
    "import ChEEssentials as ChE"
   ]
  },
  {
   "cell_type": "code",
   "execution_count": 2,
   "metadata": {},
   "outputs": [],
   "source": [
    "import numpy as np\n",
    "import waterproperties as water\n",
    "from scipy.optimize import fsolve, curve_fit"
   ]
  },
  {
   "cell_type": "code",
   "execution_count": 3,
   "metadata": {},
   "outputs": [
    {
     "name": "stdout",
     "output_type": "stream",
     "text": [
      "41770.72809521174\n",
      "39347.6051451064\n"
     ]
    }
   ],
   "source": [
    "print(water.hvp(350))\n",
    "print(water.hvp(400))"
   ]
  },
  {
   "cell_type": "code",
   "execution_count": 16,
   "metadata": {},
   "outputs": [
    {
     "name": "stdout",
     "output_type": "stream",
     "text": [
      "0.0058454 m^2  0.0070939 m^2 \n"
     ]
    }
   ],
   "source": [
    "L = 0.3556 * m #m\n",
    "BS = 4*inch\n",
    "g = 9.8 * m /s**2 #gravity \n",
    "Di = 0.206*inch  #diameter of pipe\n",
    "Do = 0.25*inch\n",
    "n = 56 #check this. num of tube \n",
    "k = 14 *W/m/K\n",
    "Tsat = 100+273\n",
    "Ai = np.pi * Di*L\n",
    "Ao = np.pi * Do*L\n",
    "P_a = 84.83*kPa #ambient\n",
    "print(Ai,Ao)"
   ]
  },
  {
   "cell_type": "code",
   "execution_count": 17,
   "metadata": {},
   "outputs": [
    {
     "name": "stdout",
     "output_type": "stream",
     "text": [
      "3.9568e+05 kg / K s^3.0 \n",
      "-8.016e-85 \n"
     ]
    }
   ],
   "source": [
    "def Tst(Ps):\n",
    "    Ps = Ps*psi + P_a\n",
    "    Ps = Ps.getNum()\n",
    "    return water.tsat(Ps) - 273\n",
    "\n",
    "Tsat = Tst(10) + 273\n",
    "\n",
    "def Q(f):\n",
    "    f = f*gal/min\n",
    "    return f/n\n",
    "\n",
    "def P(Ts,Tsat):\n",
    "    BS = 4*inch\n",
    "    T = (Tsat + Ts)/2\n",
    "    hvap = water.hvp(T) * J / mol\n",
    "    Ja = water.lcp(T)*J/mol/K * (Tsat - Ts)*K/hvap\n",
    "    hvapp = hvap*(1 + 0.68*Ja)\n",
    "    return (water.ltc(T)*W/m/K)*BS*(Tsat - Ts)*K/(water.lvs(T)*Pa*s)/hvapp/((water.nu(T)*m**2/s)**2/g)**(1/3)*ChE.MWU(\"H2O\")\n",
    "\n",
    "def ho(Ts,Tsat):\n",
    "    Tsat += 273\n",
    "    Ts += 273\n",
    "    T = (Tsat + Ts)/2\n",
    "    Nuo = 1/P(Ts,Tsat)*(0.68*P(Ts,Tsat) + 0.89)**(0.82)\n",
    "    h_o = Nuo*(water.ltc(T)*W/m/K)/((water.nu(T)*m**2/s)**2/g)**(1/3) #W/m^2/K\n",
    "    return h_o\n",
    "\n",
    "def q(Ti,To,f):\n",
    "    Ti += 273\n",
    "    To += 273\n",
    "    T = (Ti+To)/2\n",
    "    return water.ldn(T)*kg/m**3*Q(f)*water.lcp(T)*J/mol/K*(To-Ti)*K/ChE.MWU(\"H2O\")\n",
    "\n",
    "\n",
    "def hi(Ti,To,f):\n",
    "    Ti = Ti+273\n",
    "    To = To+273\n",
    "    Tt = (Ti+To)/2\n",
    "    Re = 4*Q(f)/np.pi/Di/(water.nu(Tt)*m**2/s)\n",
    "    ff = (0.790*ChE.log(Re) - 1.64)**-2\n",
    "    Pr = water.pr(Tt)\n",
    "    Nud = (ff/8*(Re - 1000)*Pr)/((1 + 12.7*(ff/8)**0.5)*(Pr**(2/3)-1))\n",
    "    h_i = Nud*water.ltc(Tt)*W/m/K/Di #W/m^2/K\n",
    "    return h_i\n",
    "\n",
    "\n",
    "print(hi(52, 63, 20))\n",
    "print(P(20,30))"
   ]
  },
  {
   "cell_type": "code",
   "execution_count": 18,
   "metadata": {},
   "outputs": [
    {
     "name": "stdout",
     "output_type": "stream",
     "text": [
      "1.1442e+04 kg / K s^3.0 \n"
     ]
    }
   ],
   "source": [
    "def getHo(Tsat, Tci, Tco, f):\n",
    "    def getTs(Ts):\n",
    "        Ts = Ts[0]\n",
    "        A = q(Tci, Tco, f)\n",
    "        B = ho(Ts, Tsat)*Ao*(Tsat-Ts)*K\n",
    "        return (A-B).getNum()\n",
    "    Ts = fsolve(getTs, (Tsat+Tco)/2)[0]\n",
    "    return ho(Ts, Tsat)\n",
    "\n",
    "print(getHo(100, 50, 60, 20))"
   ]
  },
  {
   "cell_type": "code",
   "execution_count": 27,
   "metadata": {},
   "outputs": [
    {
     "name": "stdout",
     "output_type": "stream",
     "text": [
      "53.833503852343995\n",
      "0.0002005 K s^3.0 / kg \n",
      "0.052869 K s^3.0 / kg m^2.0 \n",
      "0.00042763 K s^3.0 / kg m^2 \n",
      "0.0061887 K s^3.0 / kg m^2.0 \n",
      "0.011952 K s^3.0 / kg m^2 \n"
     ]
    }
   ],
   "source": [
    "def ΔTlm(Thi,Tho,Tci,Tco):\n",
    "    return ((Thi-Tco)-(Tho-Tci))/((np.log((Thi-Tco)/(Tho-Tci))))\n",
    "\n",
    "print(ΔTlm(112,112,52.49,63.47))\n",
    "\n",
    "def UA(f,Thi,Tho,Tci,Tco):\n",
    "    return q(Tci,Tco,f)/ΔTlm(Thi,Tho,Tci,Tco)/K\n",
    "    \n",
    "def Rf(f,Thi,Tho,Tci,Tco):\n",
    "    a = 1/UA(f,Thi,Tho,Tci,Tco)\n",
    "    b = 1/hi(Tci,Tco,f)/Ai\n",
    "    c = ChE.log(Do/Di)/2/np.pi/k/L\n",
    "    d = 1/getHo(Thi, Tci, Tco, f)/Ao\n",
    "    return (a - b - c - d)*Ai #K/W\n",
    "\n",
    "\n",
    "print(Rf(20.00,112,112,52.49,63.47))\n",
    "print(1/UA(20.00,112,112,52.49,63.47))\n",
    "print(1/hi(52.49,63.47,20)/Ai)\n",
    "print(ChE.log(Do/Di)/2/np.pi/k/L)\n",
    "print(1/getHo(112, 52.49, 63.47, 20)/Ao)"
   ]
  }
 ],
 "metadata": {
  "kernelspec": {
   "display_name": "Python 3",
   "language": "python",
   "name": "python3"
  },
  "language_info": {
   "codemirror_mode": {
    "name": "ipython",
    "version": 3
   },
   "file_extension": ".py",
   "mimetype": "text/x-python",
   "name": "python",
   "nbconvert_exporter": "python",
   "pygments_lexer": "ipython3",
   "version": "3.7.4"
  }
 },
 "nbformat": 4,
 "nbformat_minor": 2
}
